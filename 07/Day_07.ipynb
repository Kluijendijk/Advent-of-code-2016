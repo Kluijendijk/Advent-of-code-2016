{
 "cells": [
  {
   "cell_type": "code",
   "execution_count": 1,
   "id": "ab9f0530",
   "metadata": {
    "ExecuteTime": {
     "end_time": "2022-04-03T15:53:18.997000+02:00",
     "start_time": "2022-04-03T13:53:16.532Z"
    },
    "scrolled": true
   },
   "outputs": [
    {
     "data": {
      "text/plain": [
       "2000-element Vector{Vector{String}}:\n",
       " [\"wysextplwqpvipxdv,syqbzgtboxxzpwr,obdhcczonzvbfby,cooktbyumlpxostt\", \"srzvtwbfzqtspxnethm,kljvjjkjyojzrstfgrw,svotajtpttohxsh\"]\n",
       " [\"emzopymywhhxulxuctj,nxgbgfwqvrypqxppyq,rnhnakmrdcowatw,uysecbspabtauvmixa\", \"dwwvkzhoigmbmnf,qozsihnhpztcrpbdc,rhvchmzmyfxlolwe\"]\n",
       " [\"bqooxxweoytjghrqn,kpasnmikmbzcbfi,ucdyxasusefuuxlx\", \"hkwwukixothfyglw,vlnyszifsaaicagxtqf\"]\n",
       " [\"rxpusykufgqujfe,cvvcufcqmxoxcphp,vcysdcsowcxhphp,jdprpdvpeumrhokrcjt\", \"rypwoorxdemxffui,witynplrfvquduiot,gctucefriclxaonpwe\"]\n",
       " [\"iungssgfnnjlgdferc,dehxdielvncdawomqk,fjazkxesmlwryphifh,luopramrehtriilwlou\", \"xfffplonmzjmxkinhl,teizynepguvtgofr,ppjfvfefqhmuqtdp\"]\n",
       " [\"mqxqhcpalwycdxw,khadwvhkxygtxqx\", \"fkwhjscfmgywhtvdb\"]\n",
       " [\"ihekzgbwpjxgbau,mbtbcujdkbrhxdu\", \"eqpvqxncntbtsqn\"]\n",
       " [\"izikobnovmjzngo,lnnmdkuapgnxpgyxcmg,tcvnrfufuvhgmlxcm\", \"ombcpcvshnedtndu,bgnxdzmiolfvvaizu\"]\n",
       " [\"yhrowrreplrrsbupeor,rynudxihckzattbz,rvqzuffgqtysfzxp\", \"nchtznfzbzwnogh,dshxeaqusdlhydtm\"]\n",
       " [\"unfjgussbjxzlhopoqg,flfiieiitmettblfln\", \"ppdnqkiuooukdmbqlo\"]\n",
       " [\"hgtbgxarmgbxqrhghxb,syhkugztqkywetyhad,cjkxbnylglnlfleelzu\", \"hflfvoetxfisqsj,fmptjuaqittvvyooda\"]\n",
       " [\"npxhwtitqnddkwg,gudnfyefqbbgyspdxjw,xitfldhfjyjsomygjg,dlfpsnyzmhkmeevfwsf\", \"gmzggwnvygsroeaadtc,ilthbdqubqnveowv,knmrlvoiqyytigytlum\"]\n",
       " [\"wjzwftiuixvwyzmgoe,wcijbojvlgjjdtowzpv,pagicuiuerzeydww,gdicckmxibtwwoesaxf\", \"jbfghrqhyywwhlu,lgfvxfdusgxddsppbxb,wlpjklgzyilrifonz\"]\n",
       " ⋮\n",
       " [\"tcqhlxasqmbwzuiuirp,ikhdkpkmeezfzfyyilf,zshoiccvfwohudsmdcr,zabaqgsmrwkrtcuyct\", \"kfqoequocdsfwqt,lrorfowgsqkflwauhu,zohspdmqcdvgagdknr\"]\n",
       " [\"fzanofpykognmio,xqpwrgdmglgqhwawqok\", \"ladtxyissyfrssobo\"]\n",
       " [\"hynipihszohrqwaezga,wfgimkpjrjnkroueh\", \"iqtpgjpngbwhpailzg\"]\n",
       " [\"lpmrkesaqdojkqrp,arphrffqpcdntlxsza,xlogrojsovrzfzjtjbd,gffgmieinxlfzpiej\", \"dcgsayoowgpiwam,ogneaqyckrvdcvqxbm,qjoiyyatxkwsrvldp\"]\n",
       " [\"jaeayfunulncspts,kcnaqhyukuirsaeebp,gddvegwjuryfnkgkpqq,pgpikslhvbnmbxbkbc\", \"stghconfjhkqkrxncwi,vynwfnoxxxbqztj,jnhmbdpvsxreqhoek\"]\n",
       " [\"lajiqiaxcxgpvsbu,hzurjpxhecnadwosn,aceccsnyrnfmcsd,noxrndgdrkffsdvh\", \"bfetstragmoosbw,dquibbrojgurqiqd,quqxmzleqvspvsemjpn\"]\n",
       " [\"bytcvwxuavajevmde,qpildujniqlnfbmuf,hcfyjmkoywueuivrio\", \"nhmjatzolmbdfgogup,gxpgorlbxpqfsoreuey\"]\n",
       " [\"amvudustnspjqsbpjp,kwpyjvuerzyzmzft\", \"wdudhbvvlgzbbbwlafg\"]\n",
       " [\"vwpklmfpzssyoifbb,azathmhdnqkhbmrdlxn\", \"bwtpxodxedpdsvgu\"]\n",
       " [\"iwzncixpjxypnmykke,wtftbolwhpwnropnzv,twrumqadwvsaciwbwoi,fmmbddkwwpaziycik\", \"wlhvfjbumhmtachoab,zhfcmkbwizknymev,evodjtvrucrzgtwio\"]\n",
       " [\"dkodbaotlfdaphwzbcc,qxibabdusgaistkru,aaocvclsocababbzxeg,jvvqsypuoduyhvraak\", \"ldzeemqiovyqjgs,usglloxgycyynmp,liaacgfxytuqudp\"]\n",
       " [\"bwzsacxgqkbjycgfw,rbgybqqsgjvlonkut\", \"dbnligvrmqscasutn\"]"
      ]
     },
     "execution_count": 1,
     "metadata": {},
     "output_type": "execute_result"
    }
   ],
   "source": [
    "file = \"input.txt\"\n",
    "data = [split(x, r\"\\[|\\]\") for x in readlines(file)]\n",
    "data = [[join(line[1:2:end], ','), join(line[2:2:end], ',')] for line in data]"
   ]
  },
  {
   "cell_type": "code",
   "execution_count": 2,
   "id": "6c8cb166",
   "metadata": {
    "ExecuteTime": {
     "end_time": "2022-04-03T15:53:19.259000+02:00",
     "start_time": "2022-04-03T13:53:16.534Z"
    }
   },
   "outputs": [
    {
     "data": {
      "text/plain": [
       "118"
      ]
     },
     "execution_count": 2,
     "metadata": {},
     "output_type": "execute_result"
    }
   ],
   "source": [
    "abba = r\"(?!([A-z])\\g{1}\\g{1}\\g{1})([A-z])([A-z])\\g{3}\\g{2}\" #look ahead to not match aaaa, then match abba\n",
    "count = 0\n",
    "for line in data\n",
    "    if occursin(abba, line[2])\n",
    "        continue\n",
    "    end\n",
    "    if occursin(abba, line[1])\n",
    "        count += 1\n",
    "    end\n",
    "end\n",
    "count"
   ]
  },
  {
   "cell_type": "code",
   "execution_count": 3,
   "id": "2d398520",
   "metadata": {
    "ExecuteTime": {
     "end_time": "2022-04-03T15:53:19.343000+02:00",
     "start_time": "2022-04-03T13:53:16.536Z"
    }
   },
   "outputs": [
    {
     "data": {
      "text/plain": [
       "260"
      ]
     },
     "execution_count": 3,
     "metadata": {},
     "output_type": "execute_result"
    }
   ],
   "source": [
    "bab = r\"(?!([A-z])\\g{1}\\g{1})([A-z])([A-z])\\g{2}\"\n",
    "count = 0\n",
    "for line in data\n",
    "    for m in eachmatch(bab, line[2], overlap=true)\n",
    "        p = Regex(\"$(m[3])$(m[2])$(m[3])\")\n",
    "        if occursin(p, line[1])\n",
    "            count += 1\n",
    "            break\n",
    "        end\n",
    "    end\n",
    "end\n",
    "count"
   ]
  },
  {
   "cell_type": "code",
   "execution_count": null,
   "id": "300afb05",
   "metadata": {},
   "outputs": [],
   "source": []
  }
 ],
 "metadata": {
  "kernelspec": {
   "display_name": "Julia 1.7.0",
   "language": "julia",
   "name": "julia-1.7"
  },
  "language_info": {
   "file_extension": ".jl",
   "mimetype": "application/julia",
   "name": "julia",
   "version": "1.7.0"
  }
 },
 "nbformat": 4,
 "nbformat_minor": 5
}
