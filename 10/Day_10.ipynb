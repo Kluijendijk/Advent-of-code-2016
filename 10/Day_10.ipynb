{
 "cells": [
  {
   "cell_type": "code",
   "execution_count": 1,
   "id": "ab9f0530",
   "metadata": {
    "ExecuteTime": {
     "end_time": "2022-04-04T08:04:05.030000+02:00",
     "start_time": "2022-04-04T06:04:01.967Z"
    },
    "scrolled": true
   },
   "outputs": [
    {
     "data": {
      "text/plain": [
       "210-element Vector{Vector{Any}}:\n",
       " [123, \"bot\", 191, \"bot\", 162]\n",
       " [191, \"output\", 9, \"bot\", 192]\n",
       " [182, \"bot\", 175, \"bot\", 196]\n",
       " [113, \"bot\", 172, \"bot\", 94]\n",
       " [78, \"bot\", 37, \"bot\", 25]\n",
       " [187, \"bot\", 125, \"bot\", 45]\n",
       " [71, \"bot\", 108, \"bot\", 61]\n",
       " [154, \"bot\", 2, \"bot\", 64]\n",
       " [142, \"bot\", 110, \"bot\", 163]\n",
       " [109, \"output\", 0, \"bot\", 43]\n",
       " [198, \"bot\", 101, \"bot\", 52]\n",
       " [138, \"bot\", 9, \"bot\", 47]\n",
       " [179, \"bot\", 176, \"bot\", 14]\n",
       " ⋮\n",
       " [80, \"bot\", 164, \"bot\", 44]\n",
       " [54, \"bot\", 196, \"bot\", 143]\n",
       " [34, \"bot\", 73, \"bot\", 10]\n",
       " [175, \"bot\", 159, \"bot\", 121]\n",
       " [32, \"bot\", 39, \"bot\", 114]\n",
       " [140, \"bot\", 29, \"bot\", 73]\n",
       " [200, \"output\", 17, \"bot\", 109]\n",
       " [106, \"bot\", 36, \"bot\", 57]\n",
       " [177, \"bot\", 135, \"bot\", 118]\n",
       " [170, \"bot\", 31, \"bot\", 138]\n",
       " [158, \"output\", 4, \"bot\", 200]\n",
       " [6, \"bot\", 27, \"bot\", 37]"
      ]
     },
     "execution_count": 1,
     "metadata": {},
     "output_type": "execute_result"
    }
   ],
   "source": [
    "using DataStructures\n",
    "file = \"input.txt\"\n",
    "data = (match(r\"(bot|value)(.*)\", line) for line in readlines(file))\n",
    "pv = r\"(\\d*) goes to (bot|output) (\\d*)\"\n",
    "value_instructions = map((x) -> [tryparse(Int, x[1]), x[2], tryparse(Int, x[3])],\n",
    "    [match(pv, line[2]) for line in data if line[1] == \"value\"])\n",
    "pb = r\"(\\d*) gives low to (bot|output) (\\d*) and high to (bot|output) (\\d*)\"\n",
    "bot_instructions = map((x) -> [tryparse(Int, x[1]), x[2], tryparse(Int, x[3]), x[4], tryparse(Int, x[5])],\n",
    "    [match(pb, line[2]) for line in data if line[1] == \"bot\"])\n"
   ]
  },
  {
   "cell_type": "code",
   "execution_count": 2,
   "id": "6c8cb166",
   "metadata": {
    "ExecuteTime": {
     "end_time": "2022-04-04T08:04:05.351000+02:00",
     "start_time": "2022-04-04T06:04:01.969Z"
    }
   },
   "outputs": [
    {
     "data": {
      "text/plain": [
       "gain_chip (generic function with 1 method)"
      ]
     },
     "execution_count": 2,
     "metadata": {},
     "output_type": "execute_result"
    }
   ],
   "source": [
    "mutable struct Bot\n",
    "    loctype\n",
    "    id\n",
    "    low_target\n",
    "    low_type\n",
    "    high_target\n",
    "    high_type\n",
    "    chips\n",
    "    Bot(loctype, id, low_target, low_type, high_target, high_type, chips) = new(\n",
    "        loctype, id, low_target, low_type, high_target, high_type, chips)\n",
    "end\n",
    "    \n",
    "function gain_chip(bot, chip)\n",
    "    push!(bot.chips, chip)\n",
    "    sort!(bot.chips)\n",
    "    if (length(bot.chips) >= 2) & (bot.loctype == \"bot\")\n",
    "        if (bot.chips[1] == 17) & (bot.chips[2] == 61) #solve the puzzle\n",
    "            println(bot.id)\n",
    "        end\n",
    "        gain_chip(bot.low_type[bot.low_target], bot.chips[1])\n",
    "        gain_chip(bot.high_type[bot.high_target], bot.chips[2])\n",
    "        bot.chips = []\n",
    "    end\n",
    "end\n"
   ]
  },
  {
   "cell_type": "code",
   "execution_count": 3,
   "id": "a5fa62c7",
   "metadata": {
    "ExecuteTime": {
     "end_time": "2022-04-04T08:04:06.600000+02:00",
     "start_time": "2022-04-04T06:04:01.973Z"
    }
   },
   "outputs": [
    {
     "data": {
      "text/plain": [
       "Dict{String, DefaultDict{Any, Any, Bool}} with 2 entries:\n",
       "  \"output\" => DefaultDict(5=>Bot(\"output\", 5, nothing, nothing, nothing, nothin…\n",
       "  \"bot\"    => DefaultDict(56=>Bot(\"bot\", 56, 134, DefaultDict{Any, Any, Bool}(#…"
      ]
     },
     "execution_count": 3,
     "metadata": {},
     "output_type": "execute_result"
    }
   ],
   "source": [
    "outputs = DefaultDict(false)\n",
    "bots = DefaultDict(false)\n",
    "locs = Dict([\"bot\" => bots, \"output\" => outputs])\n",
    "for inst in bot_instructions\n",
    "    bots[inst[1]] = Bot(\"bot\", inst[1], inst[3], locs[inst[2]], inst[5], locs[inst[4]], [])\n",
    "    if inst[2] == \"output\"\n",
    "        outputs[inst[3]] = Bot(\"output\", inst[3], nothing, nothing, nothing, nothing, [])\n",
    "    end\n",
    "    if inst[4] == \"output\"\n",
    "        outputs[inst[5]] = Bot(\"output\", inst[5], nothing, nothing, nothing, nothing, [])\n",
    "\n",
    "    end\n",
    "end\n",
    "locs"
   ]
  },
  {
   "cell_type": "code",
   "execution_count": 4,
   "id": "a0c95788",
   "metadata": {
    "ExecuteTime": {
     "end_time": "2022-04-04T08:04:06.730000+02:00",
     "start_time": "2022-04-04T06:04:01.975Z"
    }
   },
   "outputs": [
    {
     "name": "stdout",
     "output_type": "stream",
     "text": [
      "86\n"
     ]
    }
   ],
   "source": [
    "for inst in value_instructions\n",
    "    gain_chip(locs[inst[2]][inst[3]], inst[1])\n",
    "end"
   ]
  },
  {
   "cell_type": "code",
   "execution_count": 7,
   "id": "e9c44818",
   "metadata": {
    "ExecuteTime": {
     "end_time": "2022-04-04T08:05:43.594000+02:00",
     "start_time": "2022-04-04T06:05:43.346Z"
    }
   },
   "outputs": [
    {
     "data": {
      "text/plain": [
       "22847"
      ]
     },
     "execution_count": 7,
     "metadata": {},
     "output_type": "execute_result"
    }
   ],
   "source": [
    "reduce(*, [outputs[0].chips; outputs[1].chips; outputs[2].chips])"
   ]
  },
  {
   "cell_type": "code",
   "execution_count": null,
   "id": "2da52cf4",
   "metadata": {
    "ExecuteTime": {
     "end_time": "2022-04-03T19:15:11.889000+02:00",
     "start_time": "2022-04-03T17:15:11.265Z"
    }
   },
   "outputs": [],
   "source": []
  },
  {
   "cell_type": "code",
   "execution_count": null,
   "id": "94d7ca25",
   "metadata": {},
   "outputs": [],
   "source": []
  }
 ],
 "metadata": {
  "kernelspec": {
   "display_name": "Julia 1.7.0",
   "language": "julia",
   "name": "julia-1.7"
  },
  "language_info": {
   "file_extension": ".jl",
   "mimetype": "application/julia",
   "name": "julia",
   "version": "1.7.0"
  }
 },
 "nbformat": 4,
 "nbformat_minor": 5
}
