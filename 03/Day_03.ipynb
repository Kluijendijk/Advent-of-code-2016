{
 "cells": [
  {
   "cell_type": "code",
   "execution_count": 1,
   "id": "ab9f0530",
   "metadata": {
    "ExecuteTime": {
     "end_time": "2022-04-01T12:52:56.326000+02:00",
     "start_time": "2022-04-01T10:52:54.397Z"
    }
   },
   "outputs": [
    {
     "data": {
      "text/plain": [
       "3×1734 Matrix{Int64}:\n",
       " 338  769  930  866  881  662  707  770  …  506  652  396  477  692  586  922\n",
       " 330  547  625  669  210   70  277  592     359  280  371  454  564  263  902\n",
       " 143   83  317  147   15   15  273   50     205   98  290  314  368   48  356"
      ]
     },
     "execution_count": 1,
     "metadata": {},
     "output_type": "execute_result"
    }
   ],
   "source": [
    "inp = reduce(hcat, [sort(parse.(Int, split(strip(x), r\" +\")),rev=true) for x in readlines(\"input.txt\")])"
   ]
  },
  {
   "cell_type": "code",
   "execution_count": 2,
   "id": "6c8cb166",
   "metadata": {
    "ExecuteTime": {
     "end_time": "2022-04-01T12:52:56.646000+02:00",
     "start_time": "2022-04-01T10:52:54.400Z"
    }
   },
   "outputs": [
    {
     "data": {
      "text/plain": [
       "917"
      ]
     },
     "execution_count": 2,
     "metadata": {},
     "output_type": "execute_result"
    }
   ],
   "source": [
    "poss = 0\n",
    "for vec in eachcol(inp)\n",
    "    if vec[1] < vec[2] + vec[3]\n",
    "        poss += 1\n",
    "    end\n",
    "end\n",
    "poss"
   ]
  },
  {
   "cell_type": "code",
   "execution_count": 3,
   "id": "9b2e89f6",
   "metadata": {
    "ExecuteTime": {
     "end_time": "2022-04-01T12:52:56.692000+02:00",
     "start_time": "2022-04-01T10:52:54.402Z"
    },
    "scrolled": false
   },
   "outputs": [
    {
     "data": {
      "text/plain": [
       "3×1734 Matrix{Int64}:\n",
       " 330  769  930  669   15  662  273   50  …  205   98  396  314  368   48  356\n",
       " 143  547  625  866  881   15  277  592     506  280  371  477  692  263  902\n",
       " 338   83  317  147  210   70  707  770     359  652  290  454  564  586  922"
      ]
     },
     "execution_count": 3,
     "metadata": {},
     "output_type": "execute_result"
    }
   ],
   "source": [
    "inp2 = reduce(hcat, [parse.(Int, split(strip(x), r\" +\")) for x in readlines(\"input.txt\")])\n",
    "inp2"
   ]
  },
  {
   "cell_type": "code",
   "execution_count": 4,
   "id": "5a6fddb7",
   "metadata": {
    "ExecuteTime": {
     "end_time": "2022-04-01T12:52:57.237000+02:00",
     "start_time": "2022-04-01T10:52:54.404Z"
    }
   },
   "outputs": [
    {
     "data": {
      "text/plain": [
       "3×1734 reshape(adjoint(::Matrix{Int64}), 3, 1734) with eltype Int64:\n",
       " 330  669  273  642  220  213  711  803  …  804  123  602  389  345  652  564\n",
       " 769   15   50   94  198  918  938  917     137  627  516  388  382  290  586\n",
       " 930  662  280  734  210  805  643  899     892  659  210   50  359  454  922"
      ]
     },
     "execution_count": 4,
     "metadata": {},
     "output_type": "execute_result"
    }
   ],
   "source": [
    "inp2 = reshape(inp2', (3,:))"
   ]
  },
  {
   "cell_type": "code",
   "execution_count": 5,
   "id": "cd12d151",
   "metadata": {
    "ExecuteTime": {
     "end_time": "2022-04-01T12:52:57.361000+02:00",
     "start_time": "2022-04-01T10:52:54.405Z"
    }
   },
   "outputs": [
    {
     "data": {
      "text/plain": [
       "1649"
      ]
     },
     "execution_count": 5,
     "metadata": {},
     "output_type": "execute_result"
    }
   ],
   "source": [
    "poss = 0\n",
    "for vec in eachcol(inp2)\n",
    "    vec = sort(vec, rev=true)\n",
    "    if vec[1] < vec[2] + vec[3]\n",
    "        poss += 1\n",
    "    end\n",
    "end\n",
    "poss"
   ]
  },
  {
   "cell_type": "code",
   "execution_count": null,
   "id": "6ed07e8c",
   "metadata": {},
   "outputs": [],
   "source": []
  }
 ],
 "metadata": {
  "kernelspec": {
   "display_name": "Julia 1.7.0",
   "language": "julia",
   "name": "julia-1.7"
  },
  "language_info": {
   "file_extension": ".jl",
   "mimetype": "application/julia",
   "name": "julia",
   "version": "1.7.0"
  }
 },
 "nbformat": 4,
 "nbformat_minor": 5
}
