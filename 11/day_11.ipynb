{
 "cells": [
  {
   "cell_type": "code",
   "execution_count": 1,
   "id": "c8580f3f",
   "metadata": {
    "ExecuteTime": {
     "end_time": "2022-04-07T13:58:00.823000+02:00",
     "start_time": "2022-04-07T11:57:57.668Z"
    }
   },
   "outputs": [
    {
     "data": {
      "text/plain": [
       "Dict{SubString{String}, Int64} with 11 entries:\n",
       "  \"cobalt-compatible microchip\"     => 3\n",
       "  \"ruthenium generator\"             => 10\n",
       "  \"cobalt generator\"                => 2\n",
       "  \"ruthenium-compatible microchip\"  => 11\n",
       "  \"plutonium generator\"             => 6\n",
       "  \"promethium-compatible microchip\" => 9\n",
       "  \"curium-compatible microchip\"     => 5\n",
       "  \"elevator\"                        => 1\n",
       "  \"plutonium-compatible microchip\"  => 7\n",
       "  \"promethium generator\"            => 8\n",
       "  \"curium generator\"                => 4"
      ]
     },
     "execution_count": 1,
     "metadata": {},
     "output_type": "execute_result"
    }
   ],
   "source": [
    "using Memoize\n",
    "using DataStructures\n",
    "\n",
    "file = \"input.txt\"\n",
    "\n",
    "inp = [split(x, \"contains\") for x in readlines(file)]\n",
    "p = r\"(?: a )?((?:.*)(?: generator|-compatible microchip))\\.?\"\n",
    "types = Set()\n",
    "things = [(1, \"elevator\")]\n",
    "for (ind, line) in enumerate(inp)\n",
    "    for val in split(replace(line[2], \", and\" => ',', \"and\" => ','), ',')\n",
    "        if occursin(\"nothing relevant\", val)\n",
    "            continue\n",
    "        end\n",
    "        m = match(p, val)\n",
    "        push!(types, m[1])\n",
    "        push!(things, (ind, m[1]))\n",
    "    end\n",
    "end\n",
    "indexies = Dict(sort(collect(types)) .=> 2:length(types)+1)\n",
    "indexies[\"elevator\"] = 1\n",
    "indexies"
   ]
  },
  {
   "cell_type": "code",
   "execution_count": 2,
   "id": "df585d66",
   "metadata": {
    "ExecuteTime": {
     "end_time": "2022-04-06T14:01:45.866000+02:00",
     "start_time": "2022-04-06T12:01:43.227Z"
    }
   },
   "outputs": [
    {
     "data": {
      "text/plain": [
       "11-element Vector{Tuple{Int64, String}}:\n",
       " (1, \"elevator\")\n",
       " (1, \"promethium generator\")\n",
       " (1, \"promethium-compatible microchip\")\n",
       " (2, \"cobalt generator\")\n",
       " (2, \"curium generator\")\n",
       " (2, \"ruthenium generator\")\n",
       " (2, \"plutonium generator\")\n",
       " (3, \"cobalt-compatible microchip\")\n",
       " (3, \"curium-compatible microchip\")\n",
       " (3, \"ruthenium-compatible microchip\")\n",
       " (3, \"plutonium-compatible microchip\")"
      ]
     },
     "execution_count": 2,
     "metadata": {},
     "output_type": "execute_result"
    }
   ],
   "source": [
    "things"
   ]
  },
  {
   "cell_type": "code",
   "execution_count": 3,
   "id": "fdadfa72",
   "metadata": {
    "ExecuteTime": {
     "end_time": "2022-04-06T14:01:46.328000+02:00",
     "start_time": "2022-04-06T12:01:43.472Z"
    }
   },
   "outputs": [
    {
     "data": {
      "text/plain": [
       "4×11 BitMatrix:\n",
       " 1  0  0  0  0  0  0  1  1  0  0\n",
       " 0  1  0  1  0  1  0  0  0  1  0\n",
       " 0  0  1  0  1  0  1  0  0  0  1\n",
       " 0  0  0  0  0  0  0  0  0  0  0"
      ]
     },
     "execution_count": 3,
     "metadata": {},
     "output_type": "execute_result"
    }
   ],
   "source": [
    "grid = falses((length(inp), length(indexies)))\n",
    "for thing in things\n",
    "    grid[thing[1], indexies[thing[2]]] = 1\n",
    "end\n",
    "grid"
   ]
  },
  {
   "cell_type": "code",
   "execution_count": 4,
   "id": "80d5bd79",
   "metadata": {
    "ExecuteTime": {
     "end_time": "2022-04-06T14:02:11.349000+02:00",
     "start_time": "2022-04-06T12:02:11.181Z"
    }
   },
   "outputs": [
    {
     "data": {
      "text/plain": [
       "true"
      ]
     },
     "execution_count": 4,
     "metadata": {},
     "output_type": "execute_result"
    }
   ],
   "source": [
    "function is_valid(state)\n",
    "    # %2 == 1 is chip, %2==0 is generator\n",
    "    for floor in eachrow(state)\n",
    "        generators = floor[2:2:end]\n",
    "        chips = floor[3:2:end]\n",
    "        if any(chips-generators .> 0) & any(generators)\n",
    "            return false\n",
    "        end\n",
    "    end\n",
    "    return true\n",
    "end\n",
    "\n",
    "function is_done(state)\n",
    "    return sum(state[1:size(state)[1]-1, :]) == 0 \n",
    "    # nothing on floors outside the last one\n",
    "end\n",
    "\n",
    "is_valid(grid)"
   ]
  },
  {
   "cell_type": "code",
   "execution_count": null,
   "id": "fec81133",
   "metadata": {
    "scrolled": true
   },
   "outputs": [],
   "source": [
    "struct Node\n",
    "    grid\n",
    "    cost\n",
    "    h_cost\n",
    "    elev\n",
    "    function Node(grid, cost)\n",
    "        grid = grid\n",
    "        cost = cost\n",
    "        h_cost = heuristic()\n",
    "        elev = findfirst(grid[:,1])\n",
    "        return new(grid, cost, h_cost, elev)\n",
    "    end\n",
    "\n",
    "    function heuristic()\n",
    "        items = sum(grid[end:-1:1, 2:end], dims=2)\n",
    "        out = sum(2 * sum(items[1:floor]) - 3 for floor in 1:size(grid)[1])\n",
    "        return out\n",
    "    end\n",
    "end\n",
    "\n",
    "Base.:<(x::Node, y::Node) = (x.cost+x.h_cost) < (y.cost+y.h_cost)\n",
    "\n",
    "Base.:(==)(x::Node, y::Node) = (x.cost + x.h_cost) === (y.cost+y.h_cost)\n",
    "\n",
    "function node_hasheq(x, y) #for hashing\n",
    "    return x.hash == y.hash\n",
    "end\n",
    "\n",
    "function _popfirst!(tree)\n",
    "    out = tree[1]\n",
    "end\n",
    "\n",
    "function A_star(starting_grid)\n",
    "    n_floors = size(starting_grid)[1]\n",
    "    moves = SplayTree{Node}()\n",
    "    push!(moves, Node(starting_grid, 0))\n",
    "    global_min = Inf\n",
    "    while moves.count > 0\n",
    "        _nxt = moves[1]\n",
    "        delete!(moves, _nxt)\n",
    "        # If the best case is worse than what we've found, ignore this path\n",
    "        if (_nxt.h_cost + _nxt.cost) >= global_min\n",
    "            continue\n",
    "        end\n",
    "        \n",
    "        if is_done(_nxt.grid)\n",
    "            global_min = _nxt.cost\n",
    "            continue\n",
    "        end\n",
    "        _moves_taken = _nxt.cost\n",
    "        elev = _nxt.elev\n",
    "        occ = findall(_nxt.grid[elev, 2:end]) .+ 1 #occupied on floor\n",
    "        \n",
    "        #possible moves where things are moved up\n",
    "        if elev < n_floors\n",
    "            for first in 1:length(occ)\n",
    "                #second item to be moved\n",
    "                for sec in first+1:length(occ)\n",
    "                    _state = copy(_nxt.grid)\n",
    "                    _state[elev, 1] = 0\n",
    "                    _state[elev, occ[first]] = 0\n",
    "                    _state[elev, occ[sec]] = 0\n",
    "                    _state[elev+1, 1] = 1\n",
    "                    _state[elev+1, occ[first]] = 1\n",
    "                    _state[elev+1, occ[sec]] = 1\n",
    "                    push!(moves, Node(_state, _moves_taken+1))\n",
    "                end\n",
    "                #only move first \n",
    "                _state = copy(_nxt.grid)\n",
    "                _state[elev, 1] = 0\n",
    "                _state[elev, occ[first]] = 0\n",
    "                _state[elev+1, 1] = 1\n",
    "                _state[elev+1, occ[first]] = 1\n",
    "                push!(moves, Node(_state, _moves_taken+1))\n",
    "            end\n",
    "        end\n",
    "\n",
    "        #possible moves where things are moved down\n",
    "        if elev > 1\n",
    "            for first in 1:length(occ)\n",
    "                #second item to be moved\n",
    "                for sec in first+1:length(occ)\n",
    "                    _state = copy(_nxt.grid)\n",
    "                    _state[elev, 1] = 0\n",
    "                    _state[elev, first] = 0\n",
    "                    _state[elev, sec] = 0\n",
    "                    _state[elev-1, 1] = 1\n",
    "                    _state[elev-1, first] = 1\n",
    "                    _state[elev-1, sec] = 1\n",
    "                    push!(moves, Node(_state, _moves_taken+1))\n",
    "                end\n",
    "                #only move first \n",
    "                _state = copy(_nxt.grid)\n",
    "                _state[elev, 1] = 0\n",
    "                _state[elev, first] = 0\n",
    "                _state[elev-1, 1] = 1\n",
    "                _state[elev-1, first] = 1\n",
    "                push!(moves, Node(_state, _moves_taken+1))\n",
    "            end\n",
    "        end\n",
    "        \n",
    "    end\n",
    "    return global_min\n",
    "end\n",
    "A_star(grid)"
   ]
  },
  {
   "cell_type": "markdown",
   "id": "8ad3f077",
   "metadata": {
    "ExecuteTime": {
     "end_time": "2022-04-06T14:10:16.306000+02:00",
     "start_time": "2022-04-06T12:10:16.075Z"
    },
    "scrolled": false
   },
   "source": [
    "moves = [(copy(grid), 0)]\n",
    "seen = Set()\n",
    "n_floors = size(grid)[1]\n",
    "state = popfirst!(moves)[1]\n",
    "_moves_taken = 0\n",
    "__mvs = 0\n",
    "_states_checked = 0\n",
    "done_this_mv = false\n",
    "min_this_mv = Inf\n",
    "while !is_done(state)\n",
    "    \n",
    "    if _moves_taken > __mvs\n",
    "        display(\"Calculates $(_states_checked) states at $(__mvs) moves taken\")\n",
    "        __mvs = _moves_taken\n",
    "        _states_checked = 0\n",
    "        if done_this_mv\n",
    "            _moves_taken = min_this_mv\n",
    "            break\n",
    "        end\n",
    "    end\n",
    "    hashed_state, isdiag = grid_hash(state)\n",
    "    if hashed_state in seen #prune seen states\n",
    "        _next = popfirst!(moves)\n",
    "        state = _next[1]\n",
    "        _moves_taken = _next[2]\n",
    "        continue\n",
    "    end\n",
    "    #if not seen, add to seen\n",
    "    push!(seen, hashed_state)\n",
    "    _states_checked += 1\n",
    "    elev = findfirst(state[:,1]) #elevator's floor\n",
    "    occ = findall(state[elev, 2:end]) .+ 1 #occupied on floor\n",
    "    if isdiag #once all sets are paired, the equation per set is\n",
    "        display(state)\n",
    "        display(\"All paired, $(_moves_taken) moves in\")\n",
    "        if sum(state[elev+1:end, 2:end]) < 1 #make sure nothing is below the elevator\n",
    "            items = sum(state[end:-1:1, 2:end], dims=2)\n",
    "            display(\"items: $items\")\n",
    "            out = sum(2 * sum(items[1:floor]) - 3 for floor in 1:n_floors)\n",
    "            done_this_mv = true\n",
    "            display(\"Moves to finish: $out\")\n",
    "            __min = out + _moves_taken\n",
    "            if __min < min_this_mv\n",
    "                min_this_mv = __min\n",
    "            end\n",
    "        end\n",
    "    end\n",
    "\n",
    "    #possible moves where things are moved up\n",
    "    if elev < n_floors\n",
    "        for first in 1:length(occ)\n",
    "            for sec in first+1:length(occ)\n",
    "                _state = copy(state)\n",
    "                _state[elev, 1] = 0\n",
    "                _state[elev, occ[first]] = 0\n",
    "                _state[elev, occ[sec]] = 0\n",
    "                _state[elev+1, 1] = 1\n",
    "                _state[elev+1, occ[first]] = 1\n",
    "                _state[elev+1, occ[sec]] = 1\n",
    "                push!(moves, (_state, _moves_taken+1))\n",
    "            end\n",
    "            #only move first \n",
    "            _state = copy(state)\n",
    "            _state[elev, 1] = 0\n",
    "            _state[elev, occ[first]] = 0\n",
    "            _state[elev+1, 1] = 1\n",
    "            _state[elev+1, occ[first]] = 1\n",
    "            push!(moves, (_state, _moves_taken+1))\n",
    "        end\n",
    "    end\n",
    "    \n",
    "    #possible moves where things are moved down\n",
    "    if elev > 1\n",
    "        for first in 1:length(occ)\n",
    "            for sec in first+1:length(occ)\n",
    "                _state = copy(state)\n",
    "                _state[elev, 1] = 0\n",
    "                _state[elev, first] = 0\n",
    "                _state[elev, sec] = 0\n",
    "                _state[elev-1, 1] = 1\n",
    "                _state[elev-1, first] = 1\n",
    "                _state[elev-1, sec] = 1\n",
    "                push!(moves, (_state, _moves_taken+1))\n",
    "            end\n",
    "            #only move first \n",
    "            _state = copy(state)\n",
    "            _state[elev, 1] = 0\n",
    "            _state[elev, first] = 0\n",
    "            _state[elev-1, 1] = 1\n",
    "            _state[elev-1, first] = 1\n",
    "            push!(moves, (_state, _moves_taken+1))\n",
    "        end\n",
    "    end\n",
    "    \n",
    "    _next = popfirst!(moves)\n",
    "    state = _next[1]\n",
    "    _moves_taken = _next[2]\n",
    "end\n",
    "println(\"Part 1: $(_moves_taken)\")"
   ]
  },
  {
   "cell_type": "code",
   "execution_count": 20,
   "id": "7e352234",
   "metadata": {
    "ExecuteTime": {
     "end_time": "2022-04-07T14:09:34.546000+02:00",
     "start_time": "2022-04-07T12:09:34.544Z"
    }
   },
   "outputs": [
    {
     "data": {
      "text/plain": [
       "25001"
      ]
     },
     "execution_count": 20,
     "metadata": {},
     "output_type": "execute_result"
    }
   ],
   "source": [
    "tree = SplayTree()\n",
    "push!(tree, 25001)\n",
    "tree[1]"
   ]
  },
  {
   "cell_type": "code",
   "execution_count": 3,
   "id": "4831c792",
   "metadata": {
    "ExecuteTime": {
     "end_time": "2022-04-07T14:03:24.080000+02:00",
     "start_time": "2022-04-07T12:03:23.668Z"
    }
   },
   "outputs": [
    {
     "data": {
      "text/plain": [
       "SplayTree{Any}(nothing, 0)"
      ]
     },
     "execution_count": 3,
     "metadata": {},
     "output_type": "execute_result"
    }
   ],
   "source": [
    "tree = SplayTree()\n"
   ]
  },
  {
   "cell_type": "code",
   "execution_count": 4,
   "id": "b1d4bad6",
   "metadata": {
    "ExecuteTime": {
     "end_time": "2022-04-06T14:04:51.394000+02:00",
     "start_time": "2022-04-06T12:04:51.393Z"
    }
   },
   "outputs": [
    {
     "data": {
      "text/plain": [
       "SplayTree{Any}(DataStructures.SplayTreeNode{Any}(DataStructures.SplayTreeNode{Any}(nothing, nothing, DataStructures.SplayTreeNode{Any}(#= circular reference @-2 =#), 100), nothing, nothing, 200), 2)"
      ]
     },
     "execution_count": 4,
     "metadata": {},
     "output_type": "execute_result"
    }
   ],
   "source": [
    "push!(tree, 100)\n",
    "push!(tree, 200)\n",
    "tree"
   ]
  },
  {
   "cell_type": "code",
   "execution_count": 18,
   "id": "99129a8f",
   "metadata": {
    "ExecuteTime": {
     "end_time": "2022-04-06T14:05:15.353000+02:00",
     "start_time": "2022-04-06T12:05:15.352Z"
    }
   },
   "outputs": [
    {
     "data": {
      "text/plain": [
       "0.00011654109761227716"
      ]
     },
     "execution_count": 18,
     "metadata": {},
     "output_type": "execute_result"
    }
   ],
   "source": [
    "for i=1:1000\n",
    "    push!(tree, rand())\n",
    "end\n",
    "tree[1]"
   ]
  },
  {
   "cell_type": "code",
   "execution_count": 23,
   "id": "83358354",
   "metadata": {
    "ExecuteTime": {
     "end_time": "2022-04-06T13:57:37.974000+02:00",
     "start_time": "2022-04-06T11:57:31.275Z"
    }
   },
   "outputs": [
    {
     "data": {
      "text/plain": [
       "0"
      ]
     },
     "execution_count": 23,
     "metadata": {},
     "output_type": "execute_result"
    }
   ],
   "source": [
    "tree2 = SplayTree()\n",
    "push!(tree2, 12)\n",
    "delete!(tree2, 12)\n",
    "tree2.count"
   ]
  },
  {
   "cell_type": "code",
   "execution_count": null,
   "id": "42e431d1",
   "metadata": {
    "ExecuteTime": {
     "start_time": "2022-04-06T12:00:56.550Z"
    }
   },
   "outputs": [],
   "source": []
  },
  {
   "cell_type": "code",
   "execution_count": null,
   "id": "8daa3558",
   "metadata": {
    "ExecuteTime": {
     "end_time": "2022-04-06T13:00:23.822000+02:00",
     "start_time": "2022-04-06T11:00:23.800Z"
    }
   },
   "outputs": [],
   "source": []
  },
  {
   "cell_type": "code",
   "execution_count": null,
   "id": "b4abd4c2",
   "metadata": {},
   "outputs": [],
   "source": []
  }
 ],
 "metadata": {
  "kernelspec": {
   "display_name": "Julia 1.7.0",
   "language": "julia",
   "name": "julia-1.7"
  },
  "language_info": {
   "file_extension": ".jl",
   "mimetype": "application/julia",
   "name": "julia",
   "version": "1.7.0"
  }
 },
 "nbformat": 4,
 "nbformat_minor": 5
}
