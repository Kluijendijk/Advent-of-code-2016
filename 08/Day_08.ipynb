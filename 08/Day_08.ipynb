{
 "cells": [
  {
   "cell_type": "code",
   "execution_count": 1,
   "id": "ab9f0530",
   "metadata": {
    "ExecuteTime": {
     "end_time": "2022-04-03T16:24:17.853000+02:00",
     "start_time": "2022-04-03T14:24:14.011Z"
    },
    "scrolled": true
   },
   "outputs": [
    {
     "data": {
      "text/plain": [
       "162-element Vector{Vector{Any}}:\n",
       " [\"rect\", \"\", 1, 1]\n",
       " [\"rotate\", \"row\", 0, 6]\n",
       " [\"rect\", \"\", 1, 1]\n",
       " [\"rotate\", \"row\", 0, 3]\n",
       " [\"rect\", \"\", 1, 1]\n",
       " [\"rotate\", \"row\", 0, 5]\n",
       " [\"rect\", \"\", 1, 1]\n",
       " [\"rotate\", \"row\", 0, 4]\n",
       " [\"rect\", \"\", 2, 1]\n",
       " [\"rotate\", \"row\", 0, 5]\n",
       " [\"rect\", \"\", 2, 1]\n",
       " [\"rotate\", \"row\", 0, 2]\n",
       " [\"rect\", \"\", 1, 1]\n",
       " ⋮\n",
       " [\"rotate\", \"col\", 27, 5]\n",
       " [\"rotate\", \"col\", 26, 5]\n",
       " [\"rotate\", \"col\", 17, 5]\n",
       " [\"rotate\", \"col\", 16, 5]\n",
       " [\"rotate\", \"col\", 15, 4]\n",
       " [\"rotate\", \"col\", 13, 1]\n",
       " [\"rotate\", \"col\", 12, 5]\n",
       " [\"rotate\", \"col\", 11, 5]\n",
       " [\"rotate\", \"col\", 10, 1]\n",
       " [\"rotate\", \"col\", 8, 1]\n",
       " [\"rotate\", \"col\", 2, 5]\n",
       " [\"rotate\", \"col\", 1, 5]"
      ]
     },
     "execution_count": 1,
     "metadata": {},
     "output_type": "execute_result"
    }
   ],
   "source": [
    "file = \"input.txt\"\n",
    "p = r\"(rotate|rect) (row|col|).*?(\\d+).*?(\\d+)\"\n",
    "data = map((x) -> [x[1], x[2], tryparse(Int, x[3]), tryparse(Int, x[4])], \n",
    "    [match(p, line)  for line in readlines(file)])"
   ]
  },
  {
   "cell_type": "code",
   "execution_count": 2,
   "id": "6c8cb166",
   "metadata": {
    "ExecuteTime": {
     "end_time": "2022-04-03T16:24:18.873000+02:00",
     "start_time": "2022-04-03T14:24:14.015Z"
    }
   },
   "outputs": [
    {
     "name": "stdout",
     "output_type": "stream",
     "text": [
      "▮  ▮ ▮▮▮   ▮▮    ▮▮ ▮▮▮▮ ▮    ▮▮▮   ▮▮  ▮▮▮▮ ▮▮▮▮ \n",
      "▮  ▮ ▮  ▮ ▮  ▮    ▮ ▮    ▮    ▮  ▮ ▮  ▮ ▮       ▮ \n",
      "▮  ▮ ▮  ▮ ▮  ▮    ▮ ▮▮▮  ▮    ▮▮▮  ▮    ▮▮▮    ▮  \n",
      "▮  ▮ ▮▮▮  ▮  ▮    ▮ ▮    ▮    ▮  ▮ ▮    ▮     ▮   \n",
      "▮  ▮ ▮    ▮  ▮ ▮  ▮ ▮    ▮    ▮  ▮ ▮  ▮ ▮    ▮    \n",
      " ▮▮  ▮     ▮▮   ▮▮  ▮    ▮▮▮▮ ▮▮▮   ▮▮  ▮▮▮▮ ▮▮▮▮ \n"
     ]
    },
    {
     "data": {
      "text/plain": [
       "116"
      ]
     },
     "execution_count": 2,
     "metadata": {},
     "output_type": "execute_result"
    }
   ],
   "source": [
    "(n, m) = 6, 50\n",
    "grid = falses(n, m)\n",
    "\n",
    "function dispgrid(grid; on=\"▮\", off=\" \")\n",
    "    for x in eachrow(grid)\n",
    "        for y in x\n",
    "            if y\n",
    "                print(on)\n",
    "            else\n",
    "                print(off)\n",
    "            end\n",
    "        end\n",
    "    println()\n",
    "end\n",
    "end\n",
    "\n",
    "for cmd in data\n",
    "    if cmd[1] == \"rect\"\n",
    "        grid[1:cmd[4], 1:cmd[3]] .= 1\n",
    "    elseif cmd[1] == \"rotate\"\n",
    "        if cmd[2] == \"row\"\n",
    "            grid[cmd[3]+1, :] = circshift(grid[cmd[3]+1, :], cmd[4])\n",
    "        elseif cmd[2] == \"col\"\n",
    "            grid[:, cmd[3]+1] = circshift(grid[:, cmd[3]+1], cmd[4])\n",
    "        end\n",
    "    end\n",
    "end\n",
    "dispgrid(grid)\n",
    "sum(grid)"
   ]
  },
  {
   "cell_type": "code",
   "execution_count": null,
   "id": "712129cd",
   "metadata": {},
   "outputs": [],
   "source": []
  }
 ],
 "metadata": {
  "kernelspec": {
   "display_name": "Julia 1.7.0",
   "language": "julia",
   "name": "julia-1.7"
  },
  "language_info": {
   "file_extension": ".jl",
   "mimetype": "application/julia",
   "name": "julia",
   "version": "1.7.0"
  }
 },
 "nbformat": 4,
 "nbformat_minor": 5
}
