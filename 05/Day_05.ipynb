{
 "cells": [
  {
   "cell_type": "code",
   "execution_count": 1,
   "id": "ab9f0530",
   "metadata": {
    "ExecuteTime": {
     "end_time": "2022-04-03T10:54:26.457000+02:00",
     "start_time": "2022-04-03T08:54:24.671Z"
    }
   },
   "outputs": [
    {
     "data": {
      "text/plain": [
       "\"ugkcyxxp\""
      ]
     },
     "execution_count": 1,
     "metadata": {},
     "output_type": "execute_result"
    }
   ],
   "source": [
    "using MD5\n",
    "data = read(\"input.txt\", String)"
   ]
  },
  {
   "cell_type": "code",
   "execution_count": 2,
   "id": "6c8cb166",
   "metadata": {
    "ExecuteTime": {
     "end_time": "2022-04-03T10:54:34.777000+02:00",
     "start_time": "2022-04-03T08:54:24.676Z"
    }
   },
   "outputs": [
    {
     "data": {
      "text/plain": [
       "\"d4cd2ee1\""
      ]
     },
     "execution_count": 2,
     "metadata": {},
     "output_type": "execute_result"
    }
   ],
   "source": [
    "out = \"\"\n",
    "i = 0\n",
    "while true\n",
    "    hash = bytes2hex(md5(data * string(i)))\n",
    "    if hash[1:5] == \"00000\"\n",
    "        out = out*hash[6]\n",
    "        if length(out) >= 8\n",
    "            break\n",
    "        end\n",
    "    end\n",
    "    i += 1\n",
    "end\n",
    "out"
   ]
  },
  {
   "cell_type": "code",
   "execution_count": 3,
   "id": "2d398520",
   "metadata": {
    "ExecuteTime": {
     "end_time": "2022-04-03T10:54:55.141000+02:00",
     "start_time": "2022-04-03T08:54:24.679Z"
    }
   },
   "outputs": [
    {
     "name": "stdout",
     "output_type": "stream",
     "text": [
      "5: 3 from number 1776011 \n",
      "3: c from number 8845283 \n",
      "2: 2 from number 10253167 \n",
      "6: 0 from number 13176821 \n",
      "8: 5 from number 13604913 \n",
      "1: f from number 14375656 \n",
      "7: e from number 14578672 \n",
      "4: 7 from number 25176242 \n"
     ]
    },
    {
     "data": {
      "text/plain": [
       "\"f2c730e5\""
      ]
     },
     "execution_count": 3,
     "metadata": {},
     "output_type": "execute_result"
    }
   ],
   "source": [
    "include(\"day_05.jl\")"
   ]
  },
  {
   "cell_type": "code",
   "execution_count": null,
   "id": "ce0da857",
   "metadata": {
    "ExecuteTime": {
     "end_time": "2022-04-02T16:14:05.307000+02:00",
     "start_time": "2022-04-02T14:13:47.891Z"
    }
   },
   "outputs": [],
   "source": []
  },
  {
   "cell_type": "code",
   "execution_count": null,
   "id": "dca6b7e6",
   "metadata": {
    "ExecuteTime": {
     "end_time": "2022-04-02T16:31:03.691000+02:00",
     "start_time": "2022-04-02T14:31:03.688Z"
    }
   },
   "outputs": [],
   "source": []
  },
  {
   "cell_type": "code",
   "execution_count": null,
   "id": "0dbe1b8c",
   "metadata": {
    "ExecuteTime": {
     "end_time": "2022-04-02T16:31:15.076000+02:00",
     "start_time": "2022-04-02T14:31:15.074Z"
    }
   },
   "outputs": [],
   "source": []
  },
  {
   "cell_type": "code",
   "execution_count": null,
   "id": "c1c8678b",
   "metadata": {},
   "outputs": [],
   "source": []
  }
 ],
 "metadata": {
  "kernelspec": {
   "display_name": "Julia 1.7.0",
   "language": "julia",
   "name": "julia-1.7"
  },
  "language_info": {
   "file_extension": ".jl",
   "mimetype": "application/julia",
   "name": "julia",
   "version": "1.7.0"
  }
 },
 "nbformat": 4,
 "nbformat_minor": 5
}
