{
 "cells": [
  {
   "cell_type": "code",
   "execution_count": 1,
   "id": "ab9f0530",
   "metadata": {
    "ExecuteTime": {
     "end_time": "2022-04-01T10:38:15.799000+02:00",
     "start_time": "2022-04-01T08:38:13.807Z"
    }
   },
   "outputs": [
    {
     "data": {
      "text/plain": [
       "168-element Vector{SubString{String}}:\n",
       " \"L5\"\n",
       " \" R1\"\n",
       " \" R4\"\n",
       " \" L5\"\n",
       " \" L4\"\n",
       " \" R3\"\n",
       " \" R1\"\n",
       " \" L1\"\n",
       " \" R4\"\n",
       " \" R5\"\n",
       " \" L1\"\n",
       " \" L3\"\n",
       " \" R4\"\n",
       " ⋮\n",
       " \" L3\"\n",
       " \" L4\"\n",
       " \" L5\"\n",
       " \" L5\"\n",
       " \" L2\"\n",
       " \" R4\"\n",
       " \" R3\"\n",
       " \" L5\"\n",
       " \" R4\"\n",
       " \" R2\"\n",
       " \" R1\"\n",
       " \" L5\""
      ]
     },
     "execution_count": 1,
     "metadata": {},
     "output_type": "execute_result"
    }
   ],
   "source": [
    "inp = split(read(\"input.txt\", String), ',')"
   ]
  },
  {
   "cell_type": "code",
   "execution_count": 2,
   "id": "6c8cb166",
   "metadata": {
    "ExecuteTime": {
     "end_time": "2022-04-01T10:38:16.838000+02:00",
     "start_time": "2022-04-01T08:38:13.809Z"
    }
   },
   "outputs": [
    {
     "data": {
      "text/plain": [
       "Dict{String, Matrix{Int64}} with 2 entries:\n",
       "  \"L\" => [0 1; -1 0]\n",
       "  \"R\" => [0 -1; 1 0]"
      ]
     },
     "execution_count": 2,
     "metadata": {},
     "output_type": "execute_result"
    }
   ],
   "source": [
    "R = [[0, -1]'; [1, 0]']\n",
    "L = [[0, 1]'; [-1, 0]']\n",
    "rots = Dict(\"L\" => L, \"R\" => R)"
   ]
  },
  {
   "cell_type": "code",
   "execution_count": 3,
   "id": "9b2e89f6",
   "metadata": {
    "ExecuteTime": {
     "end_time": "2022-04-01T10:38:17.558000+02:00",
     "start_time": "2022-04-01T08:38:13.811Z"
    },
    "scrolled": false
   },
   "outputs": [
    {
     "data": {
      "text/plain": [
       "242"
      ]
     },
     "execution_count": 3,
     "metadata": {},
     "output_type": "execute_result"
    }
   ],
   "source": [
    "rpos = [0, 0]'\n",
    "move_vect = [0, 1]'\n",
    "p = r\"([A-Z]*)(\\d*)\"\n",
    "for c in inp\n",
    "    m = match(p, strip(c))\n",
    "    move_vect *= rots[m[1]]\n",
    "    rpos += tryparse(Int, m[2]) .* move_vect\n",
    "end\n",
    "sum(abs.(rpos))"
   ]
  },
  {
   "cell_type": "code",
   "execution_count": 6,
   "id": "5a6fddb7",
   "metadata": {
    "ExecuteTime": {
     "end_time": "2022-04-01T10:43:11.750000+02:00",
     "start_time": "2022-04-01T08:43:11.642Z"
    }
   },
   "outputs": [
    {
     "name": "stdout",
     "output_type": "stream",
     "text": [
      "150\n",
      "288\n",
      "287\n",
      "286\n",
      "273\n",
      "274\n",
      "277\n",
      "282\n",
      "285\n",
      "286\n",
      "287\n",
      "288\n",
      "291\n",
      "281\n",
      "274\n",
      "272\n",
      "271\n",
      "269\n",
      "272\n",
      "275\n",
      "276\n",
      "277\n",
      "277\n",
      "276\n",
      "275\n",
      "274\n",
      "273\n",
      "272\n",
      "268\n",
      "267\n",
      "266\n",
      "265\n",
      "254\n",
      "255\n",
      "256\n",
      "257\n",
      "256\n",
      "255\n",
      "254\n",
      "253\n",
      "250\n",
      "251\n",
      "252\n",
      "253\n",
      "254\n",
      "253\n",
      "254\n",
      "253\n",
      "254\n",
      "257\n"
     ]
    }
   ],
   "source": [
    "rpos = [0, 0]'\n",
    "move_vect = [0, 1]'\n",
    "visited = []\n",
    "for c in inp\n",
    "    m = match(p, strip(c))\n",
    "    move_vect *= rots[m[1]]\n",
    "    _pos = rpos\n",
    "    dist = tryparse(Int, m[2])\n",
    "    distsign = sign(dist)\n",
    "    for i in 1:abs(dist)\n",
    "        _pos += move_vect * distsign\n",
    "        if _pos in visited\n",
    "            println(sum(abs.(_pos)))\n",
    "        end\n",
    "        push!(visited, _pos)\n",
    "    end\n",
    "    rpos = _pos\n",
    "end"
   ]
  },
  {
   "cell_type": "code",
   "execution_count": null,
   "id": "cd12d151",
   "metadata": {},
   "outputs": [],
   "source": []
  }
 ],
 "metadata": {
  "kernelspec": {
   "display_name": "Julia 1.7.0",
   "language": "julia",
   "name": "julia-1.7"
  },
  "language_info": {
   "file_extension": ".jl",
   "mimetype": "application/julia",
   "name": "julia",
   "version": "1.7.0"
  }
 },
 "nbformat": 4,
 "nbformat_minor": 5
}
