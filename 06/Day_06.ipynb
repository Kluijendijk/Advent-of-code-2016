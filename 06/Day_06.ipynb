{
 "cells": [
  {
   "cell_type": "code",
   "execution_count": 1,
   "id": "ab9f0530",
   "metadata": {
    "ExecuteTime": {
     "end_time": "2022-04-03T11:12:58.564000+02:00",
     "start_time": "2022-04-03T09:12:56.611Z"
    }
   },
   "outputs": [
    {
     "data": {
      "text/plain": [
       "8×598 Matrix{Char}:\n",
       " 'j'  'z'  'a'  'd'  't'  's'  'r'  'q'  …  'z'  'f'  'b'  'k'  'j'  'e'  'y'\n",
       " 't'  'x'  'n'  'x'  't'  'j'  'g'  'y'     'p'  'k'  'o'  'p'  'o'  'n'  'h'\n",
       " 'f'  'o'  'l'  'u'  'n'  'o'  'f'  'm'     'f'  'q'  'd'  'x'  'h'  'h'  't'\n",
       " 'x'  'e'  'f'  'u'  'e'  'y'  'w'  'x'     'w'  'a'  'l'  'i'  'm'  'a'  'y'\n",
       " 'g'  'u'  'u'  'y'  'w'  'e'  'w'  's'     'q'  'p'  'e'  'u'  's'  'm'  'd'\n",
       " 'q'  'd'  'f'  'x'  'h'  'i'  'd'  'l'  …  'v'  'o'  'q'  'o'  'n'  'l'  'o'\n",
       " 'e'  'd'  'm'  'k'  'l'  'r'  'h'  'l'     'o'  'i'  'b'  'd'  'c'  'o'  's'\n",
       " 'c'  'n'  'a'  'g'  'w'  'y'  'w'  'k'     'x'  'd'  'n'  'k'  'c'  'l'  's'"
      ]
     },
     "execution_count": 1,
     "metadata": {},
     "output_type": "execute_result"
    }
   ],
   "source": [
    "using DataStructures\n",
    "file = \"input.txt\"\n",
    "data = reduce(hcat, [[y for y in x] for x in readlines(file)])"
   ]
  },
  {
   "cell_type": "code",
   "execution_count": 2,
   "id": "6c8cb166",
   "metadata": {
    "ExecuteTime": {
     "end_time": "2022-04-03T11:12:59.214000+02:00",
     "start_time": "2022-04-03T09:12:56.613Z"
    }
   },
   "outputs": [
    {
     "name": "stdout",
     "output_type": "stream",
     "text": [
      "tsreykjj"
     ]
    }
   ],
   "source": [
    "(n, m) = size(data)\n",
    "occurances = Vector{DefaultDict}(undef, n)\n",
    "collect(occurances[x] = DefaultDict(0) for x in 1:n)\n",
    "collect([occurances[row][data[row, col]] += 1 for row in 1:n for col in 1:m])\n",
    "sorted_occs = ([sort(collect(occurances[x]), by = (x) -> x[2], rev=true) for x in 1:n])\n",
    "collect(print(sorted_occs[x][1][1]) for x in 1:n)\n",
    ";"
   ]
  },
  {
   "cell_type": "code",
   "execution_count": 3,
   "id": "2d398520",
   "metadata": {
    "ExecuteTime": {
     "end_time": "2022-04-03T11:12:59.257000+02:00",
     "start_time": "2022-04-03T09:12:56.616Z"
    }
   },
   "outputs": [
    {
     "name": "stdout",
     "output_type": "stream",
     "text": [
      "hnfbujie"
     ]
    }
   ],
   "source": [
    "collect(print(sorted_occs[x][end][1]) for x in 1:n)\n",
    ";"
   ]
  },
  {
   "cell_type": "code",
   "execution_count": null,
   "id": "c1c8678b",
   "metadata": {},
   "outputs": [],
   "source": []
  }
 ],
 "metadata": {
  "kernelspec": {
   "display_name": "Julia 1.7.0",
   "language": "julia",
   "name": "julia-1.7"
  },
  "language_info": {
   "file_extension": ".jl",
   "mimetype": "application/julia",
   "name": "julia",
   "version": "1.7.0"
  }
 },
 "nbformat": 4,
 "nbformat_minor": 5
}
