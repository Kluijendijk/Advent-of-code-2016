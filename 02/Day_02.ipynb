{
 "cells": [
  {
   "cell_type": "code",
   "execution_count": 1,
   "id": "ab9f0530",
   "metadata": {
    "ExecuteTime": {
     "end_time": "2022-04-01T12:30:20.705000+02:00",
     "start_time": "2022-04-01T10:30:18.744Z"
    }
   },
   "outputs": [
    {
     "data": {
      "text/plain": [
       "5-element Vector{String}:\n",
       " \"UULDRRRDDLRLURUUURUURDRUURRDRRU\" ⋯ 347 bytes ⋯ \"RRDRRURLULLRLRDDULULRDLDDLULLD\"\n",
       " \"UUDUDDRRURRUDDRLDLURURLRLLDRLUL\" ⋯ 436 bytes ⋯ \"LLRRDLDDRLRRULDDLLUURUDDUDRLUD\"\n",
       " \"DDDUDDRRDRRRUULDRULDLDLURRRUURU\" ⋯ 509 bytes ⋯ \"DDUUDLRDRLUUULLRLDLDDLLRUDDRDD\"\n",
       " \"DDUURRLULDLULULLDUDDRURDDRLRDUL\" ⋯ 529 bytes ⋯ \"RDUULRDRLLRULLUDDRLDLDDDDUDRDD\"\n",
       " \"URDLUDUDLULURUDRLUDLUDLRLRLLDDD\" ⋯ 513 bytes ⋯ \"URDRRURUUDUDDUURULLDRDULURUDUD\""
      ]
     },
     "execution_count": 1,
     "metadata": {},
     "output_type": "execute_result"
    }
   ],
   "source": [
    "sample = readlines(\"sample.txt\")\n",
    "inp = readlines(\"input.txt\")"
   ]
  },
  {
   "cell_type": "code",
   "execution_count": 2,
   "id": "6c8cb166",
   "metadata": {
    "ExecuteTime": {
     "end_time": "2022-04-01T12:30:21.241000+02:00",
     "start_time": "2022-04-01T10:30:18.745Z"
    }
   },
   "outputs": [
    {
     "data": {
      "text/plain": [
       "3×3 Matrix{Int64}:\n",
       " 1  2  3\n",
       " 4  5  6\n",
       " 7  8  9"
      ]
     },
     "execution_count": 2,
     "metadata": {},
     "output_type": "execute_result"
    }
   ],
   "source": [
    "keypad = [[1,2,3]';[4,5,6]';[7,8,9]']"
   ]
  },
  {
   "cell_type": "code",
   "execution_count": 3,
   "id": "9b2e89f6",
   "metadata": {
    "ExecuteTime": {
     "end_time": "2022-04-01T12:30:21.696000+02:00",
     "start_time": "2022-04-01T10:30:18.748Z"
    },
    "scrolled": false
   },
   "outputs": [
    {
     "data": {
      "text/plain": [
       "\"78985\""
      ]
     },
     "execution_count": 3,
     "metadata": {},
     "output_type": "execute_result"
    }
   ],
   "source": [
    "vpos, hpos = [2, 2]\n",
    "digits = []\n",
    "data = inp\n",
    "for digit in data\n",
    "    for char in digit\n",
    "        if char == 'U'\n",
    "            vpos = max(1, vpos-1)\n",
    "        elseif char == 'D'\n",
    "            vpos = min(3, vpos+1)\n",
    "        elseif char == 'L'\n",
    "            hpos = max(1, hpos-1)\n",
    "        elseif char == 'R'\n",
    "            hpos = min(3, hpos+1)\n",
    "        end\n",
    "    end\n",
    "    push!(digits, keypad[vpos, hpos])\n",
    "end\n",
    "reduce(string, digits)"
   ]
  },
  {
   "cell_type": "code",
   "execution_count": 6,
   "id": "5a6fddb7",
   "metadata": {
    "ExecuteTime": {
     "end_time": "2022-04-01T12:30:24.667000+02:00",
     "start_time": "2022-04-01T10:30:24.630Z"
    }
   },
   "outputs": [
    {
     "data": {
      "text/plain": [
       "\"57DD8\""
      ]
     },
     "execution_count": 6,
     "metadata": {},
     "output_type": "execute_result"
    }
   ],
   "source": [
    "keypad2 = permutedims([[false,false,1,false,false];;[false, 2,3,4, false];;[5,6,7,8,9];;[false,'A','B','C',false];;[false, false,'D',false, false]])\n",
    "vpos, hpos = [3, 1]\n",
    "digits = []\n",
    "data = inp\n",
    "for digit in data\n",
    "    for char in digit\n",
    "        if char == 'U'\n",
    "            if vpos > 1 \n",
    "                if !(keypad2[vpos-1, hpos] == false)\n",
    "                    vpos -= 1\n",
    "                end\n",
    "            end\n",
    "        elseif char == 'D'\n",
    "            if vpos < 5 \n",
    "                if !(keypad2[vpos+1, hpos] == false)\n",
    "                    vpos += 1\n",
    "                end\n",
    "            end\n",
    "        elseif char == 'L'\n",
    "            if hpos > 1 \n",
    "                if !(keypad2[vpos, hpos-1] == false)\n",
    "                    hpos -= 1\n",
    "                end\n",
    "            end\n",
    "        elseif char == 'R'\n",
    "            if hpos < 5 \n",
    "                if !(keypad2[vpos, hpos+1] == false)\n",
    "                    hpos += 1\n",
    "                end\n",
    "            end\n",
    "        end\n",
    "    end\n",
    "    push!(digits, keypad2[vpos, hpos])\n",
    "end\n",
    "reduce(string, digits)"
   ]
  },
  {
   "cell_type": "code",
   "execution_count": 5,
   "id": "cd12d151",
   "metadata": {
    "ExecuteTime": {
     "end_time": "2022-04-01T12:30:22.911000+02:00",
     "start_time": "2022-04-01T10:30:18.755Z"
    }
   },
   "outputs": [
    {
     "data": {
      "text/plain": [
       "5×5 Matrix{Any}:\n",
       "     0      0     1         0         0\n",
       "     0      2     3         4         0\n",
       "     5      6     7         8         9\n",
       " false       'A'   'B'       'C'  false\n",
       " false  false      'D'  false     false"
      ]
     },
     "execution_count": 5,
     "metadata": {},
     "output_type": "execute_result"
    }
   ],
   "source": [
    "keypad2"
   ]
  },
  {
   "cell_type": "code",
   "execution_count": null,
   "id": "7031ad62",
   "metadata": {},
   "outputs": [],
   "source": []
  }
 ],
 "metadata": {
  "kernelspec": {
   "display_name": "Julia 1.7.0",
   "language": "julia",
   "name": "julia-1.7"
  },
  "language_info": {
   "file_extension": ".jl",
   "mimetype": "application/julia",
   "name": "julia",
   "version": "1.7.0"
  }
 },
 "nbformat": 4,
 "nbformat_minor": 5
}
