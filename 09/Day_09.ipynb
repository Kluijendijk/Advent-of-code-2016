{
 "cells": [
  {
   "cell_type": "code",
   "execution_count": 1,
   "id": "ab9f0530",
   "metadata": {
    "ExecuteTime": {
     "end_time": "2022-04-03T17:43:06.065000+02:00",
     "start_time": "2022-04-03T15:43:03.018Z"
    },
    "scrolled": true
   },
   "outputs": [
    {
     "data": {
      "text/plain": [
       "\"(121x14)(7x7)UOBCTWD(24x1)KBBJJRCFNOTNFFCKJOFGWJZT(12x6)(7x3)CKJUMES(47x12)(2x3)IY(4x12)JSFP(12x13)FDTYFDWLHWXE(5x11)XLPGL(2x7)EK(113x4)(7x2)LTVKCEC(75x4)(22x8)XBUQNQXMZPOAACRFZACRVP(2x2)HV(33x10)HTJYEBCTFDFRIXRIUBWJJXFDNGBIVATET(14x6)(8x10)IGIWGAFX(102x2)(34x6)(6x14)AE\" ⋯ 16380 bytes ⋯ \"DHAIFXADH(47x1)(41x4)QDJLJWSRORPHUBHGTPUYBVFSSIEOYHUHZKASZTGCN(10x13)(4x10)LABA(92x8)(12x15)DJFIFECKWSST(20x7)YLXFIEMQMWPCWPMWRDRF(10x1)JEPPKBYGMD(12x7)MXAXOCOGEFOO(7x14)NIAQHAK(1x15)D(79x1)(17x2)(4x14)PVLT(2x5)LE(49x11)(16x9)TFPAVPXVGPGIPDFJ(2x4)WQ(14x7)IYVKVVHCOYGDVO\""
      ]
     },
     "execution_count": 1,
     "metadata": {},
     "output_type": "execute_result"
    }
   ],
   "source": [
    "file = \"input.txt\"\n",
    "data = read(file, String)"
   ]
  },
  {
   "cell_type": "code",
   "execution_count": 2,
   "id": "6c8cb166",
   "metadata": {
    "ExecuteTime": {
     "end_time": "2022-04-03T17:43:06.292000+02:00",
     "start_time": "2022-04-03T15:43:03.021Z"
    }
   },
   "outputs": [
    {
     "name": "stdout",
     "output_type": "stream",
     "text": [
      "part 1: 120765\n"
     ]
    }
   ],
   "source": [
    "ind = 0\n",
    "n = length(data)\n",
    "len = 0\n",
    "while ind < n\n",
    "    ind += 1\n",
    "    char = data[ind]\n",
    "    if char == '('\n",
    "        num1 = \"\"\n",
    "        ind += 1\n",
    "        char = data[ind]\n",
    "        while char != 'x'\n",
    "            num1 *= char\n",
    "            ind += 1\n",
    "            char = data[ind]\n",
    "            \n",
    "        end\n",
    "        num1 = parse(Int, num1)\n",
    "        num2 = \"\"\n",
    "        ind += 1\n",
    "        char = data[ind]\n",
    "        while char != ')'\n",
    "            num2 *= char\n",
    "            ind += 1\n",
    "            char = data[ind]\n",
    "        end\n",
    "        num2 = parse(Int, num2)\n",
    "        len += num1 * num2\n",
    "        ind += num1\n",
    "        continue\n",
    "    end\n",
    "    len += 1\n",
    "end\n",
    "println(\"part 1: $len\")"
   ]
  },
  {
   "cell_type": "code",
   "execution_count": 3,
   "id": "712129cd",
   "metadata": {
    "ExecuteTime": {
     "end_time": "2022-04-03T17:43:06.847000+02:00",
     "start_time": "2022-04-03T15:43:03.025Z"
    }
   },
   "outputs": [
    {
     "data": {
      "text/plain": [
       "get_length (generic function with 1 method)"
      ]
     },
     "execution_count": 3,
     "metadata": {},
     "output_type": "execute_result"
    }
   ],
   "source": [
    "p = r\"(.*?)\\((\\d+)x(\\d+)\\)(.*)\"\n",
    "function get_length(str)\n",
    "    m = match(p, str)\n",
    "    if m === nothing\n",
    "        return length(str)\n",
    "    end\n",
    "    chars = tryparse(Int, m[2])\n",
    "    reps = tryparse(Int, m[3])\n",
    "    return length(m[1]) + reps * get_length(m[4][1:chars]) + get_length(m[4][chars+1:end])\n",
    "end"
   ]
  },
  {
   "cell_type": "code",
   "execution_count": 4,
   "id": "a5fa62c7",
   "metadata": {
    "ExecuteTime": {
     "end_time": "2022-04-03T17:43:07.504000+02:00",
     "start_time": "2022-04-03T15:43:03.030Z"
    }
   },
   "outputs": [
    {
     "data": {
      "text/plain": [
       "11658395076"
      ]
     },
     "execution_count": 4,
     "metadata": {},
     "output_type": "execute_result"
    }
   ],
   "source": [
    "get_length(data)"
   ]
  },
  {
   "cell_type": "code",
   "execution_count": null,
   "id": "a0c95788",
   "metadata": {
    "ExecuteTime": {
     "end_time": "2022-04-03T17:36:11.865000+02:00",
     "start_time": "2022-04-03T15:36:11.865Z"
    }
   },
   "outputs": [],
   "source": []
  },
  {
   "cell_type": "code",
   "execution_count": null,
   "id": "e9c44818",
   "metadata": {},
   "outputs": [],
   "source": []
  }
 ],
 "metadata": {
  "kernelspec": {
   "display_name": "Julia 1.7.0",
   "language": "julia",
   "name": "julia-1.7"
  },
  "language_info": {
   "file_extension": ".jl",
   "mimetype": "application/julia",
   "name": "julia",
   "version": "1.7.0"
  }
 },
 "nbformat": 4,
 "nbformat_minor": 5
}
